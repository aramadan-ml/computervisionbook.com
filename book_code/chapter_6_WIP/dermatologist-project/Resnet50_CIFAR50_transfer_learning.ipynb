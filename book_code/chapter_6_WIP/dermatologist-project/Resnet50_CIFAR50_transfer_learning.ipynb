{
 "cells": [
  {
   "cell_type": "code",
   "execution_count": 9,
   "metadata": {},
   "outputs": [
    {
     "name": "stdout",
     "output_type": "stream",
     "text": [
      "data loaded\n"
     ]
    }
   ],
   "source": [
    "import keras\n",
    "from keras.datasets import cifar10\n",
    "import numpy as np\n",
    "from keras.applications.inception_v3 import InceptionV3, preprocess_input\n",
    "import scipy\n",
    "from scipy import misc\n",
    "import os\n",
    "\n",
    "# load the data\n",
    "(x_train, y_train), (x_test, y_test) = cifar10.load_data()\n",
    "y_train = np.squeeze(y_train)\n",
    "print('data loaded')"
   ]
  },
  {
   "cell_type": "code",
   "execution_count": 10,
   "metadata": {},
   "outputs": [
    {
     "name": "stderr",
     "output_type": "stream",
     "text": [
      "/anaconda3/envs/tfdeeplearning/lib/python3.5/site-packages/keras_applications/resnet50.py:265: UserWarning: The output shape of `ResNet50(include_top=False)` has been changed since Keras 2.2.0.\n",
      "  warnings.warn('The output shape of `ResNet50(include_top=False)` '\n"
     ]
    },
    {
     "name": "stdout",
     "output_type": "stream",
     "text": [
      "model loaded\n"
     ]
    }
   ],
   "source": [
    "# load Resnet50 model + remove final classification layers\n",
    "\n",
    "from keras import applications\n",
    "\n",
    "model = applications.ResNet50(include_top=False, weights='imagenet')\n",
    "\n",
    "print('model loaded')"
   ]
  },
  {
   "cell_type": "code",
   "execution_count": 11,
   "metadata": {},
   "outputs": [
    {
     "name": "stdout",
     "output_type": "stream",
     "text": [
      "bottleneck features detected (train)\n",
      "bottleneck features saved (train)\n"
     ]
    }
   ],
   "source": [
    "# obtain bottleneck features (train)\n",
    "if os.path.exists('resnet50_features_train.npz'):\n",
    "    print('bottleneck features detected (train)')\n",
    "    features = np.load('resnet50_features_train.npz')['features']\n",
    "else:\n",
    "    print('bottleneck features file not detected (train)')\n",
    "    print('calculating now ...')\n",
    "    # pre-process the train data\n",
    "    big_x_train = np.array([scipy.misc.imresize(x_train[i], (139, 139, 3)) \n",
    "                            for i in range(0, len(x_train))]).astype('float32')\n",
    "    resnet_input_train = preprocess_input(big_x_train)\n",
    "    print('train data preprocessed')\n",
    "    # extract, process, and save bottleneck features\n",
    "    features = model.predict(resnet_input_train)\n",
    "    features = np.squeeze(features)\n",
    "    np.savez('resnet50_features_train', features=features)\n",
    "print('bottleneck features saved (train)')"
   ]
  },
  {
   "cell_type": "code",
   "execution_count": 12,
   "metadata": {},
   "outputs": [
    {
     "name": "stdout",
     "output_type": "stream",
     "text": [
      "bottleneck features detected (test)\n",
      "bottleneck features saved (test)\n"
     ]
    }
   ],
   "source": [
    "# obtain bottleneck features (test)\n",
    "if os.path.exists('resnet_features_test.npz'):\n",
    "    print('bottleneck features detected (test)')\n",
    "    features_test = np.load('resnet_features_test.npz')['features_test']\n",
    "else:\n",
    "    print('bottleneck features file not detected (test)')\n",
    "    print('calculating now ...')\n",
    "    # pre-process the test data\n",
    "    big_x_test = np.array([scipy.misc.imresize(x_test[i], (139, 139, 3)) \n",
    "                       for i in range(0, len(x_test))]).astype('float32')\n",
    "    resnet_input_test = preprocess_input(big_x_test)\n",
    "    # extract, process, and save bottleneck features (test)\n",
    "    features_test = model.predict(resnet_input_test)\n",
    "    features_test = np.squeeze(features_test)\n",
    "    np.savez('resnet_features_test', features_test=features_test)\n",
    "print('bottleneck features saved (test)')"
   ]
  },
  {
   "cell_type": "code",
   "execution_count": 13,
   "metadata": {},
   "outputs": [],
   "source": [
    "from keras.utils import np_utils\n",
    "\n",
    "# one-hot encode the labels\n",
    "y_train = np_utils.to_categorical(y_train, 10)\n",
    "y_test = np_utils.to_categorical(y_test, 10)"
   ]
  },
  {
   "cell_type": "code",
   "execution_count": 14,
   "metadata": {},
   "outputs": [
    {
     "name": "stdout",
     "output_type": "stream",
     "text": [
      "_________________________________________________________________\n",
      "Layer (type)                 Output Shape              Param #   \n",
      "=================================================================\n",
      "dense_4 (Dense)              (None, 5, 5, 512)         1049088   \n",
      "_________________________________________________________________\n",
      "dropout_3 (Dropout)          (None, 5, 5, 512)         0         \n",
      "_________________________________________________________________\n",
      "batch_normalization_3 (Batch (None, 5, 5, 512)         2048      \n",
      "_________________________________________________________________\n",
      "flatten_2 (Flatten)          (None, 12800)             0         \n",
      "_________________________________________________________________\n",
      "dense_5 (Dense)              (None, 256)               3277056   \n",
      "_________________________________________________________________\n",
      "dropout_4 (Dropout)          (None, 256)               0         \n",
      "_________________________________________________________________\n",
      "batch_normalization_4 (Batch (None, 256)               1024      \n",
      "_________________________________________________________________\n",
      "dense_6 (Dense)              (None, 10)                2570      \n",
      "=================================================================\n",
      "Total params: 4,331,786\n",
      "Trainable params: 4,330,250\n",
      "Non-trainable params: 1,536\n",
      "_________________________________________________________________\n"
     ]
    }
   ],
   "source": [
    "from keras.callbacks import ModelCheckpoint   \n",
    "from keras.models import Sequential\n",
    "from keras.layers import Dense, Dropout, Conv2D, Flatten, MaxPooling2D, BatchNormalization\n",
    "\n",
    "model = Sequential()\n",
    "# model.add(Conv2D(filters=100, kernel_size=2, input_shape=features.shape[1:]))\n",
    "model.add(Dense(512, activation='relu', input_shape=features.shape[1:]))\n",
    "model.add(Dropout(0.5))\n",
    "model.add(BatchNormalization())\n",
    "\n",
    "model.add(Flatten())\n",
    "model.add(Dense(256, activation='relu'))\n",
    "model.add(Dropout(0.4))\n",
    "model.add(BatchNormalization())\n",
    "\n",
    "model.add(Dense(10, activation='softmax'))\n",
    "model.summary()"
   ]
  },
  {
   "cell_type": "code",
   "execution_count": 15,
   "metadata": {
    "scrolled": true
   },
   "outputs": [
    {
     "name": "stdout",
     "output_type": "stream",
     "text": [
      "Train on 45000 samples, validate on 5000 samples\n",
      "Epoch 1/20\n",
      " - 73s - loss: 1.9873 - acc: 0.2610 - val_loss: 1.7579 - val_acc: 0.3468\n",
      "\n",
      "Epoch 00001: val_loss improved from inf to 1.75792, saving model to model.best.hdf5\n",
      "Epoch 2/20\n",
      " - 59s - loss: 1.7835 - acc: 0.3424 - val_loss: 1.7445 - val_acc: 0.3694\n",
      "\n",
      "Epoch 00002: val_loss improved from 1.75792 to 1.74449, saving model to model.best.hdf5\n",
      "Epoch 3/20\n",
      " - 58s - loss: 1.7076 - acc: 0.3793 - val_loss: 1.5821 - val_acc: 0.4214\n",
      "\n",
      "Epoch 00003: val_loss improved from 1.74449 to 1.58206, saving model to model.best.hdf5\n",
      "Epoch 4/20\n",
      " - 58s - loss: 1.6389 - acc: 0.4084 - val_loss: 1.5655 - val_acc: 0.4100\n",
      "\n",
      "Epoch 00004: val_loss improved from 1.58206 to 1.56555, saving model to model.best.hdf5\n",
      "Epoch 5/20\n",
      " - 57s - loss: 1.5998 - acc: 0.4209 - val_loss: 1.5120 - val_acc: 0.4382\n",
      "\n",
      "Epoch 00005: val_loss improved from 1.56555 to 1.51198, saving model to model.best.hdf5\n",
      "Epoch 6/20\n",
      " - 57s - loss: 1.5759 - acc: 0.4357 - val_loss: 1.5421 - val_acc: 0.4320\n",
      "\n",
      "Epoch 00006: val_loss did not improve from 1.51198\n",
      "Epoch 7/20\n",
      " - 58s - loss: 1.5523 - acc: 0.4428 - val_loss: 1.5244 - val_acc: 0.4450\n",
      "\n",
      "Epoch 00007: val_loss did not improve from 1.51198\n",
      "Epoch 8/20\n",
      " - 58s - loss: 1.5242 - acc: 0.4559 - val_loss: 1.6095 - val_acc: 0.4326\n",
      "\n",
      "Epoch 00008: val_loss did not improve from 1.51198\n",
      "Epoch 9/20\n",
      " - 58s - loss: 1.5032 - acc: 0.4629 - val_loss: 1.5095 - val_acc: 0.4702\n",
      "\n",
      "Epoch 00009: val_loss improved from 1.51198 to 1.50955, saving model to model.best.hdf5\n",
      "Epoch 10/20\n",
      " - 57s - loss: 1.4833 - acc: 0.4734 - val_loss: 1.3751 - val_acc: 0.5146\n",
      "\n",
      "Epoch 00010: val_loss improved from 1.50955 to 1.37509, saving model to model.best.hdf5\n",
      "Epoch 11/20\n",
      " - 57s - loss: 1.4682 - acc: 0.4812 - val_loss: 1.5580 - val_acc: 0.4484\n",
      "\n",
      "Epoch 00011: val_loss did not improve from 1.37509\n",
      "Epoch 12/20\n",
      " - 58s - loss: 1.4519 - acc: 0.4836 - val_loss: 1.4547 - val_acc: 0.4810\n",
      "\n",
      "Epoch 00012: val_loss did not improve from 1.37509\n",
      "Epoch 13/20\n",
      " - 58s - loss: 1.4416 - acc: 0.4875 - val_loss: 1.3428 - val_acc: 0.5144\n",
      "\n",
      "Epoch 00013: val_loss improved from 1.37509 to 1.34282, saving model to model.best.hdf5\n",
      "Epoch 14/20\n",
      " - 58s - loss: 1.4266 - acc: 0.4928 - val_loss: 1.3339 - val_acc: 0.5246\n",
      "\n",
      "Epoch 00014: val_loss improved from 1.34282 to 1.33395, saving model to model.best.hdf5\n",
      "Epoch 15/20\n",
      " - 58s - loss: 1.4133 - acc: 0.5012 - val_loss: 1.5233 - val_acc: 0.4516\n",
      "\n",
      "Epoch 00015: val_loss did not improve from 1.33395\n",
      "Epoch 16/20\n",
      " - 57s - loss: 1.4068 - acc: 0.5044 - val_loss: 1.3398 - val_acc: 0.5380\n",
      "\n",
      "Epoch 00016: val_loss did not improve from 1.33395\n",
      "Epoch 17/20\n",
      " - 58s - loss: 1.4005 - acc: 0.5047 - val_loss: 1.5330 - val_acc: 0.4766\n",
      "\n",
      "Epoch 00017: val_loss did not improve from 1.33395\n",
      "Epoch 18/20\n",
      " - 58s - loss: 1.3952 - acc: 0.5083 - val_loss: 1.2888 - val_acc: 0.5350\n",
      "\n",
      "Epoch 00018: val_loss improved from 1.33395 to 1.28879, saving model to model.best.hdf5\n",
      "Epoch 19/20\n",
      " - 57s - loss: 1.3835 - acc: 0.5115 - val_loss: 1.4311 - val_acc: 0.5106\n",
      "\n",
      "Epoch 00019: val_loss did not improve from 1.28879\n",
      "Epoch 20/20\n",
      " - 57s - loss: 1.3775 - acc: 0.5131 - val_loss: 1.3688 - val_acc: 0.5170\n",
      "\n",
      "Epoch 00020: val_loss did not improve from 1.28879\n"
     ]
    }
   ],
   "source": [
    "# optimizer = keras.optimizers.rmsprop(lr=0.0003,decay=1e-6)\n",
    "\n",
    "model.compile(loss='categorical_crossentropy', optimizer='rmsprop', metrics=['accuracy'])\n",
    "\n",
    "checkpointer = ModelCheckpoint(filepath='model.best.hdf5', verbose=1, save_best_only=True)\n",
    "\n",
    "history = model.fit(features, y_train, batch_size=64, epochs=20,\n",
    "          validation_split=0.1, callbacks=[checkpointer],\n",
    "          verbose=2, shuffle=True)"
   ]
  },
  {
   "cell_type": "code",
   "execution_count": 16,
   "metadata": {},
   "outputs": [
    {
     "ename": "SyntaxError",
     "evalue": "invalid syntax (<ipython-input-16-88a585a45d13>, line 5)",
     "output_type": "error",
     "traceback": [
      "\u001b[0;36m  File \u001b[0;32m\"<ipython-input-16-88a585a45d13>\"\u001b[0;36m, line \u001b[0;32m5\u001b[0m\n\u001b[0;31m    score = model.evaluate(features_test, y_test, verbose=)\u001b[0m\n\u001b[0m                                                          ^\u001b[0m\n\u001b[0;31mSyntaxError\u001b[0m\u001b[0;31m:\u001b[0m invalid syntax\n"
     ]
    }
   ],
   "source": [
    "# load the weights that yielded the best validation accuracy\n",
    "model.load_weights('model.best.hdf5')\n",
    "\n",
    "# evaluate test accuracy\n",
    "score = model.evaluate(features_test, y_test, verbose=)\n",
    "accuracy = 100*score[1]\n",
    "\n",
    "# print test accuracy\n",
    "print('Test accuracy: %.4f%%' % accuracy)"
   ]
  },
  {
   "cell_type": "code",
   "execution_count": null,
   "metadata": {},
   "outputs": [],
   "source": [
    "from matplotlib import pyplot\n",
    "%matplotlib inline\n",
    "\n",
    "# plot learning curves of model accuracy\n",
    "pyplot.plot(history.history['acc'], label='train')\n",
    "pyplot.plot(history.history['val_acc'], label='test')\n",
    "pyplot.legend()\n",
    "pyplot.show()"
   ]
  },
  {
   "cell_type": "code",
   "execution_count": null,
   "metadata": {},
   "outputs": [],
   "source": []
  }
 ],
 "metadata": {
  "kernelspec": {
   "display_name": "tfdeeplearning",
   "language": "python",
   "name": "tfdeeplearning"
  },
  "language_info": {
   "codemirror_mode": {
    "name": "ipython",
    "version": 3
   },
   "file_extension": ".py",
   "mimetype": "text/x-python",
   "name": "python",
   "nbconvert_exporter": "python",
   "pygments_lexer": "ipython3",
   "version": "3.5.6"
  }
 },
 "nbformat": 4,
 "nbformat_minor": 2
}
