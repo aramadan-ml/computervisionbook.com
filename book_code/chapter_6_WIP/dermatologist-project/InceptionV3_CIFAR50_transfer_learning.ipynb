{
 "cells": [
  {
   "cell_type": "code",
   "execution_count": 1,
   "metadata": {},
   "outputs": [
    {
     "name": "stderr",
     "output_type": "stream",
     "text": [
      "Using TensorFlow backend.\n"
     ]
    },
    {
     "name": "stdout",
     "output_type": "stream",
     "text": [
      "data loaded\n"
     ]
    }
   ],
   "source": [
    "import keras\n",
    "from keras.datasets import cifar10\n",
    "import numpy as np\n",
    "from keras.applications.inception_v3 import InceptionV3, preprocess_input\n",
    "import scipy\n",
    "from scipy import misc\n",
    "import os\n",
    "\n",
    "# load the data\n",
    "(x_train, y_train), (x_test, y_test) = cifar10.load_data()\n",
    "y_train = np.squeeze(y_train)\n",
    "print('data loaded')"
   ]
  },
  {
   "cell_type": "code",
   "execution_count": 2,
   "metadata": {},
   "outputs": [
    {
     "name": "stdout",
     "output_type": "stream",
     "text": [
      "model loaded\n"
     ]
    }
   ],
   "source": [
    "# load inceptionV3 model + remove final classification layers\n",
    "model = InceptionV3(weights='imagenet', include_top=False, input_shape=(139, 139, 3))\n",
    "print('model loaded')"
   ]
  },
  {
   "cell_type": "code",
   "execution_count": 3,
   "metadata": {},
   "outputs": [
    {
     "name": "stdout",
     "output_type": "stream",
     "text": [
      "bottleneck features detected (train)\n",
      "bottleneck features saved (train)\n"
     ]
    }
   ],
   "source": [
    "# obtain bottleneck features (train)\n",
    "if os.path.exists('inception_features_train.npz'):\n",
    "    print('bottleneck features detected (train)')\n",
    "    features = np.load('inception_features_train.npz')['features']\n",
    "else:\n",
    "    print('bottleneck features file not detected (train)')\n",
    "    print('calculating now ...')\n",
    "    # pre-process the train data\n",
    "    big_x_train = np.array([scipy.misc.imresize(x_train[i], (139, 139, 3)) \n",
    "                            for i in range(0, len(x_train))]).astype('float32')\n",
    "    inception_input_train = preprocess_input(big_x_train)\n",
    "    print('train data preprocessed')\n",
    "    # extract, process, and save bottleneck features\n",
    "    features = model.predict(inception_input_train)\n",
    "    features = np.squeeze(features)\n",
    "    np.savez('inception_features_train', features=features)\n",
    "print('bottleneck features saved (train)')"
   ]
  },
  {
   "cell_type": "code",
   "execution_count": 4,
   "metadata": {},
   "outputs": [
    {
     "name": "stdout",
     "output_type": "stream",
     "text": [
      "bottleneck features detected (test)\n",
      "bottleneck features saved (test)\n"
     ]
    }
   ],
   "source": [
    "# obtain bottleneck features (test)\n",
    "if os.path.exists('inception_features_test.npz'):\n",
    "    print('bottleneck features detected (test)')\n",
    "    features_test = np.load('inception_features_test.npz')['features_test']\n",
    "else:\n",
    "    print('bottleneck features file not detected (test)')\n",
    "    print('calculating now ...')\n",
    "    # pre-process the test data\n",
    "    big_x_test = np.array([scipy.misc.imresize(x_test[i], (139, 139, 3)) \n",
    "                       for i in range(0, len(x_test))]).astype('float32')\n",
    "    inception_input_test = preprocess_input(big_x_test)\n",
    "    # extract, process, and save bottleneck features (test)\n",
    "    features_test = model.predict(inception_input_test)\n",
    "    features_test = np.squeeze(features_test)\n",
    "    np.savez('inception_features_test', features_test=features_test)\n",
    "print('bottleneck features saved (test)')"
   ]
  },
  {
   "cell_type": "code",
   "execution_count": 5,
   "metadata": {},
   "outputs": [],
   "source": [
    "from keras.utils import np_utils\n",
    "\n",
    "# one-hot encode the labels\n",
    "y_train = np_utils.to_categorical(y_train, 10)\n",
    "y_test = np_utils.to_categorical(y_test, 10)"
   ]
  },
  {
   "cell_type": "code",
   "execution_count": 8,
   "metadata": {},
   "outputs": [
    {
     "name": "stdout",
     "output_type": "stream",
     "text": [
      "_________________________________________________________________\n",
      "Layer (type)                 Output Shape              Param #   \n",
      "=================================================================\n",
      "dense_3 (Dense)              (None, 3, 3, 256)         524544    \n",
      "_________________________________________________________________\n",
      "dropout_2 (Dropout)          (None, 3, 3, 256)         0         \n",
      "_________________________________________________________________\n",
      "batch_normalization_96 (Batc (None, 3, 3, 256)         1024      \n",
      "_________________________________________________________________\n",
      "flatten_1 (Flatten)          (None, 2304)              0         \n",
      "_________________________________________________________________\n",
      "dense_4 (Dense)              (None, 10)                23050     \n",
      "=================================================================\n",
      "Total params: 548,618\n",
      "Trainable params: 548,106\n",
      "Non-trainable params: 512\n",
      "_________________________________________________________________\n"
     ]
    }
   ],
   "source": [
    "from keras.callbacks import ModelCheckpoint   \n",
    "from keras.models import Sequential\n",
    "from keras.layers import Dense, Dropout, Conv2D, Flatten, MaxPooling2D, BatchNormalization\n",
    "\n",
    "model = Sequential()\n",
    "# model.add(Conv2D(filters=100, kernel_size=2, input_shape=features.shape[1:]))\n",
    "model.add(Dense(256, activation='relu', input_shape=features.shape[1:]))\n",
    "model.add(Dropout(0.5))\n",
    "model.add(BatchNormalization())\n",
    "\n",
    "model.add(Flatten())\n",
    "# model.add(Dense(256, activation='relu'))\n",
    "# model.add(Dropout(0.4))\n",
    "# model.add(BatchNormalization())\n",
    "\n",
    "model.add(Dense(10, activation='softmax'))\n",
    "model.summary()"
   ]
  },
  {
   "cell_type": "code",
   "execution_count": 9,
   "metadata": {
    "scrolled": true
   },
   "outputs": [
    {
     "name": "stdout",
     "output_type": "stream",
     "text": [
      "Train on 45000 samples, validate on 5000 samples\n",
      "Epoch 1/20\n",
      " - 27s - loss: 0.6645 - acc: 0.7829 - val_loss: 0.5462 - val_acc: 0.8142\n",
      "\n",
      "Epoch 00001: val_loss improved from inf to 0.54619, saving model to model.best.hdf5\n",
      "Epoch 2/20\n",
      " - 15s - loss: 0.4930 - acc: 0.8347 - val_loss: 0.5294 - val_acc: 0.8266\n",
      "\n",
      "Epoch 00002: val_loss improved from 0.54619 to 0.52935, saving model to model.best.hdf5\n",
      "Epoch 3/20\n",
      " - 15s - loss: 0.4151 - acc: 0.8586 - val_loss: 0.5157 - val_acc: 0.8356\n",
      "\n",
      "Epoch 00003: val_loss improved from 0.52935 to 0.51570, saving model to model.best.hdf5\n",
      "Epoch 4/20\n",
      " - 15s - loss: 0.3616 - acc: 0.8754 - val_loss: 0.5622 - val_acc: 0.8310\n",
      "\n",
      "Epoch 00004: val_loss did not improve from 0.51570\n",
      "Epoch 5/20\n",
      " - 15s - loss: 0.3215 - acc: 0.8896 - val_loss: 0.5420 - val_acc: 0.8404\n",
      "\n",
      "Epoch 00005: val_loss did not improve from 0.51570\n",
      "Epoch 6/20\n",
      " - 15s - loss: 0.2791 - acc: 0.9030 - val_loss: 0.5562 - val_acc: 0.8332\n",
      "\n",
      "Epoch 00006: val_loss did not improve from 0.51570\n",
      "Epoch 7/20\n",
      " - 15s - loss: 0.2429 - acc: 0.9150 - val_loss: 0.6509 - val_acc: 0.8276\n",
      "\n",
      "Epoch 00007: val_loss did not improve from 0.51570\n",
      "Epoch 8/20\n",
      " - 15s - loss: 0.2123 - acc: 0.9258 - val_loss: 0.6165 - val_acc: 0.8374\n",
      "\n",
      "Epoch 00008: val_loss did not improve from 0.51570\n",
      "Epoch 9/20\n",
      " - 15s - loss: 0.1853 - acc: 0.9349 - val_loss: 0.6660 - val_acc: 0.8400\n",
      "\n",
      "Epoch 00009: val_loss did not improve from 0.51570\n",
      "Epoch 10/20\n",
      " - 15s - loss: 0.1720 - acc: 0.9391 - val_loss: 0.6549 - val_acc: 0.8418\n",
      "\n",
      "Epoch 00010: val_loss did not improve from 0.51570\n",
      "Epoch 11/20\n",
      " - 15s - loss: 0.1529 - acc: 0.9470 - val_loss: 0.7344 - val_acc: 0.8368\n",
      "\n",
      "Epoch 00011: val_loss did not improve from 0.51570\n",
      "Epoch 12/20\n",
      " - 15s - loss: 0.1418 - acc: 0.9502 - val_loss: 0.7187 - val_acc: 0.8404\n",
      "\n",
      "Epoch 00012: val_loss did not improve from 0.51570\n",
      "Epoch 13/20\n",
      " - 15s - loss: 0.1288 - acc: 0.9544 - val_loss: 0.7674 - val_acc: 0.8364\n",
      "\n",
      "Epoch 00013: val_loss did not improve from 0.51570\n",
      "Epoch 14/20\n",
      " - 15s - loss: 0.1267 - acc: 0.9563 - val_loss: 0.8507 - val_acc: 0.8412\n",
      "\n",
      "Epoch 00014: val_loss did not improve from 0.51570\n",
      "Epoch 15/20\n",
      " - 15s - loss: 0.1147 - acc: 0.9611 - val_loss: 0.8385 - val_acc: 0.8386\n",
      "\n",
      "Epoch 00015: val_loss did not improve from 0.51570\n",
      "Epoch 16/20\n",
      " - 15s - loss: 0.1077 - acc: 0.9630 - val_loss: 0.8161 - val_acc: 0.8372\n",
      "\n",
      "Epoch 00016: val_loss did not improve from 0.51570\n",
      "Epoch 17/20\n",
      " - 15s - loss: 0.1047 - acc: 0.9646 - val_loss: 0.8331 - val_acc: 0.8380\n",
      "\n",
      "Epoch 00017: val_loss did not improve from 0.51570\n",
      "Epoch 18/20\n",
      " - 15s - loss: 0.1014 - acc: 0.9648 - val_loss: 0.9507 - val_acc: 0.8294\n",
      "\n",
      "Epoch 00018: val_loss did not improve from 0.51570\n",
      "Epoch 19/20\n",
      " - 15s - loss: 0.1007 - acc: 0.9663 - val_loss: 0.8732 - val_acc: 0.8356\n",
      "\n",
      "Epoch 00019: val_loss did not improve from 0.51570\n",
      "Epoch 20/20\n",
      " - 15s - loss: 0.0950 - acc: 0.9676 - val_loss: 0.9015 - val_acc: 0.8384\n",
      "\n",
      "Epoch 00020: val_loss did not improve from 0.51570\n"
     ]
    }
   ],
   "source": [
    "# from keras import regularizers, optimizers\n",
    "\n",
    "# optimizer = keras.optimizers.rmsprop(lr=0.0003,decay=1e-6)\n",
    "\n",
    "model.compile(loss='categorical_crossentropy', optimizer='rmsprop', metrics=['accuracy'])\n",
    "\n",
    "checkpointer = ModelCheckpoint(filepath='model.best.hdf5', verbose=2, save_best_only=True)\n",
    "\n",
    "history = model.fit(features, y_train, batch_size=64, epochs=20,\n",
    "          validation_split=0.1, callbacks=[checkpointer],\n",
    "          verbose=2, shuffle=True)"
   ]
  },
  {
   "cell_type": "code",
   "execution_count": 10,
   "metadata": {},
   "outputs": [
    {
     "name": "stdout",
     "output_type": "stream",
     "text": [
      "10000/10000 [==============================] - 2s 173us/step\n",
      "Test accuracy: 83.3400%\n"
     ]
    }
   ],
   "source": [
    "# load the weights that yielded the best validation accuracy\n",
    "model.load_weights('model.best.hdf5')\n",
    "\n",
    "# evaluate test accuracy\n",
    "score = model.evaluate(features_test, y_test, verbose=1)\n",
    "accuracy = 100*score[1]\n",
    "\n",
    "# print test accuracy\n",
    "print('Test accuracy: %.4f%%' % accuracy)"
   ]
  },
  {
   "cell_type": "code",
   "execution_count": 11,
   "metadata": {},
   "outputs": [
    {
     "data": {
      "image/png": "[encoded data removed]",
      "text/plain": [
       "<Figure size 432x288 with 1 Axes>"
      ]
     },
     "metadata": {
      "needs_background": "light"
     },
     "output_type": "display_data"
    }
   ],
   "source": [
    "from matplotlib import pyplot\n",
    "%matplotlib inline\n",
    "\n",
    "# plot learning curves of model accuracy\n",
    "pyplot.plot(history.history['acc'], label='train')\n",
    "pyplot.plot(history.history['val_acc'], label='test')\n",
    "pyplot.legend()\n",
    "pyplot.show()"
   ]
  },
  {
   "cell_type": "code",
   "execution_count": 13,
   "metadata": {},
   "outputs": [
    {
     "name": "stdout",
     "output_type": "stream",
     "text": [
      "50000/50000 [==============================] - 8s 163us/step\n",
      "Test accuracy: 88.5780%\n"
     ]
    }
   ],
   "source": [
    "# evaluate test accuracy\n",
    "score = model.evaluate(features, y_train, verbose=1)\n",
    "accuracy = 100*score[1]\n",
    "\n",
    "# print test accuracy\n",
    "print('Test accuracy: %.4f%%' % accuracy)"
   ]
  },
  {
   "cell_type": "code",
   "execution_count": null,
   "metadata": {},
   "outputs": [],
   "source": []
  }
 ],
 "metadata": {
  "kernelspec": {
   "display_name": "tfdeeplearning",
   "language": "python",
   "name": "tfdeeplearning"
  },
  "language_info": {
   "codemirror_mode": {
    "name": "ipython",
    "version": 3
   },
   "file_extension": ".py",
   "mimetype": "text/x-python",
   "name": "python",
   "nbconvert_exporter": "python",
   "pygments_lexer": "ipython3",
   "version": "3.5.6"
  }
 },
 "nbformat": 4,
 "nbformat_minor": 2
}
