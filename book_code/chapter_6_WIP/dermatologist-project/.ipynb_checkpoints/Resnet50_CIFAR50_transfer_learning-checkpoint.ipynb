{
 "cells": [
  {
   "cell_type": "code",
   "execution_count": 1,
   "metadata": {},
   "outputs": [
    {
     "name": "stderr",
     "output_type": "stream",
     "text": [
      "Using TensorFlow backend.\n"
     ]
    },
    {
     "name": "stdout",
     "output_type": "stream",
     "text": [
      "data loaded\n"
     ]
    }
   ],
   "source": [
    "import keras\n",
    "from keras.datasets import cifar10\n",
    "import numpy as np\n",
    "from keras.applications.inception_v3 import InceptionV3, preprocess_input\n",
    "import scipy\n",
    "from scipy import misc\n",
    "import os\n",
    "\n",
    "# load the data\n",
    "(x_train, y_train), (x_test, y_test) = cifar10.load_data()\n",
    "y_train = np.squeeze(y_train)\n",
    "print('data loaded')"
   ]
  },
  {
   "cell_type": "code",
   "execution_count": 2,
   "metadata": {},
   "outputs": [
    {
     "name": "stdout",
     "output_type": "stream",
     "text": [
      "model loaded\n"
     ]
    }
   ],
   "source": [
    "# load inceptionV3 model + remove final classification layers\n",
    "model = InceptionV3(weights='imagenet', include_top=False, input_shape=(139, 139, 3))\n",
    "print('model loaded')"
   ]
  },
  {
   "cell_type": "code",
   "execution_count": 3,
   "metadata": {},
   "outputs": [
    {
     "name": "stdout",
     "output_type": "stream",
     "text": [
      "bottleneck features detected (train)\n",
      "bottleneck features saved (train)\n"
     ]
    }
   ],
   "source": [
    "# obtain bottleneck features (train)\n",
    "if os.path.exists('inception_features_train.npz'):\n",
    "    print('bottleneck features detected (train)')\n",
    "    features = np.load('inception_features_train.npz')['features']\n",
    "else:\n",
    "    print('bottleneck features file not detected (train)')\n",
    "    print('calculating now ...')\n",
    "    # pre-process the train data\n",
    "    big_x_train = np.array([scipy.misc.imresize(x_train[i], (139, 139, 3)) \n",
    "                            for i in range(0, len(x_train))]).astype('float32')\n",
    "    inception_input_train = preprocess_input(big_x_train)\n",
    "    print('train data preprocessed')\n",
    "    # extract, process, and save bottleneck features\n",
    "    features = model.predict(inception_input_train)\n",
    "    features = np.squeeze(features)\n",
    "    np.savez('inception_features_train', features=features)\n",
    "print('bottleneck features saved (train)')"
   ]
  },
  {
   "cell_type": "code",
   "execution_count": 4,
   "metadata": {},
   "outputs": [
    {
     "name": "stdout",
     "output_type": "stream",
     "text": [
      "bottleneck features detected (test)\n",
      "bottleneck features saved (test)\n"
     ]
    }
   ],
   "source": [
    "# obtain bottleneck features (test)\n",
    "if os.path.exists('inception_features_test.npz'):\n",
    "    print('bottleneck features detected (test)')\n",
    "    features_test = np.load('inception_features_test.npz')['features_test']\n",
    "else:\n",
    "    print('bottleneck features file not detected (test)')\n",
    "    print('calculating now ...')\n",
    "    # pre-process the test data\n",
    "    big_x_test = np.array([scipy.misc.imresize(x_test[i], (139, 139, 3)) \n",
    "                       for i in range(0, len(x_test))]).astype('float32')\n",
    "    inception_input_test = preprocess_input(big_x_test)\n",
    "    # extract, process, and save bottleneck features (test)\n",
    "    features_test = model.predict(inception_input_test)\n",
    "    features_test = np.squeeze(features_test)\n",
    "    np.savez('inception_features_test', features_test=features_test)\n",
    "print('bottleneck features saved (test)')"
   ]
  },
  {
   "cell_type": "code",
   "execution_count": 5,
   "metadata": {},
   "outputs": [],
   "source": [
    "from keras.utils import np_utils\n",
    "\n",
    "# one-hot encode the labels\n",
    "y_train = np_utils.to_categorical(y_train, 10)\n",
    "y_test = np_utils.to_categorical(y_test, 10)"
   ]
  },
  {
   "cell_type": "code",
   "execution_count": 6,
   "metadata": {},
   "outputs": [
    {
     "name": "stdout",
     "output_type": "stream",
     "text": [
      "_________________________________________________________________\n",
      "Layer (type)                 Output Shape              Param #   \n",
      "=================================================================\n",
      "dense_1 (Dense)              (None, 3, 3, 512)         1049088   \n",
      "_________________________________________________________________\n",
      "dropout_1 (Dropout)          (None, 3, 3, 512)         0         \n",
      "_________________________________________________________________\n",
      "batch_normalization_95 (Batc (None, 3, 3, 512)         2048      \n",
      "_________________________________________________________________\n",
      "flatten_1 (Flatten)          (None, 4608)              0         \n",
      "_________________________________________________________________\n",
      "dense_2 (Dense)              (None, 256)               1179904   \n",
      "_________________________________________________________________\n",
      "dropout_2 (Dropout)          (None, 256)               0         \n",
      "_________________________________________________________________\n",
      "batch_normalization_96 (Batc (None, 256)               1024      \n",
      "_________________________________________________________________\n",
      "dense_3 (Dense)              (None, 10)                2570      \n",
      "=================================================================\n",
      "Total params: 2,234,634\n",
      "Trainable params: 2,233,098\n",
      "Non-trainable params: 1,536\n",
      "_________________________________________________________________\n"
     ]
    }
   ],
   "source": [
    "from keras.callbacks import ModelCheckpoint   \n",
    "from keras.models import Sequential\n",
    "from keras.layers import Dense, Dropout, Conv2D, Flatten, MaxPooling2D, BatchNormalization\n",
    "\n",
    "model = Sequential()\n",
    "# model.add(Conv2D(filters=100, kernel_size=2, input_shape=features.shape[1:]))\n",
    "model.add(Dense(512, activation='relu', input_shape=features.shape[1:]))\n",
    "model.add(Dropout(0.5))\n",
    "model.add(BatchNormalization())\n",
    "\n",
    "model.add(Flatten())\n",
    "model.add(Dense(256, activation='relu'))\n",
    "model.add(Dropout(0.4))\n",
    "model.add(BatchNormalization())\n",
    "\n",
    "model.add(Dense(10, activation='softmax'))\n",
    "model.summary()"
   ]
  },
  {
   "cell_type": "code",
   "execution_count": null,
   "metadata": {
    "scrolled": true
   },
   "outputs": [
    {
     "name": "stdout",
     "output_type": "stream",
     "text": [
      "Train on 45000 samples, validate on 5000 samples\n",
      "Epoch 1/20\n"
     ]
    }
   ],
   "source": [
    "# optimizer = keras.optimizers.rmsprop(lr=0.0003,decay=1e-6)\n",
    "\n",
    "model.compile(loss='categorical_crossentropy', optimizer='rmsprop', metrics=['accuracy'])\n",
    "\n",
    "checkpointer = ModelCheckpoint(filepath='model.best.hdf5', verbose=1, save_best_only=True)\n",
    "\n",
    "history = model.fit(features, y_train, batch_size=64, epochs=20,\n",
    "          validation_split=0.1, callbacks=[checkpointer],\n",
    "          verbose=2, shuffle=True)"
   ]
  },
  {
   "cell_type": "code",
   "execution_count": null,
   "metadata": {},
   "outputs": [],
   "source": [
    "# load the weights that yielded the best validation accuracy\n",
    "model.load_weights('model.best.hdf5')\n",
    "\n",
    "# evaluate test accuracy\n",
    "score = model.evaluate(features_test, y_test, verbose=)\n",
    "accuracy = 100*score[1]\n",
    "\n",
    "# print test accuracy\n",
    "print('Test accuracy: %.4f%%' % accuracy)"
   ]
  },
  {
   "cell_type": "code",
   "execution_count": null,
   "metadata": {},
   "outputs": [],
   "source": [
    "from matplotlib import pyplot\n",
    "\n",
    "# plot learning curves of model accuracy\n",
    "pyplot.plot(history.history['acc'], label='train')\n",
    "pyplot.plot(history.history['val_acc'], label='test')\n",
    "pyplot.legend()\n",
    "pyplot.show()"
   ]
  },
  {
   "cell_type": "code",
   "execution_count": null,
   "metadata": {},
   "outputs": [],
   "source": []
  }
 ],
 "metadata": {
  "kernelspec": {
   "display_name": "tfdeeplearning",
   "language": "python",
   "name": "tfdeeplearning"
  },
  "language_info": {
   "codemirror_mode": {
    "name": "ipython",
    "version": 3
   },
   "file_extension": ".py",
   "mimetype": "text/x-python",
   "name": "python",
   "nbconvert_exporter": "python",
   "pygments_lexer": "ipython3",
   "version": "3.5.6"
  }
 },
 "nbformat": 4,
 "nbformat_minor": 2
}
